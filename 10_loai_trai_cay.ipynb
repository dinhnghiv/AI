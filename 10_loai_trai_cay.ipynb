{
  "nbformat": 4,
  "nbformat_minor": 0,
  "metadata": {
    "colab": {
      "name": "10 loai trai cay.ipynb",
      "provenance": [],
      "collapsed_sections": []
    },
    "kernelspec": {
      "name": "python3",
      "display_name": "Python 3"
    },
    "language_info": {
      "name": "python"
    },
    "accelerator": "GPU"
  },
  "cells": [
    {
      "cell_type": "code",
      "execution_count": null,
      "metadata": {
        "colab": {
          "base_uri": "https://localhost:8080/"
        },
        "id": "HBt14RK1KnC7",
        "outputId": "5a5d3b25-fa29-4b87-c52c-33c2c910aa8c"
      },
      "outputs": [
        {
          "output_type": "stream",
          "name": "stdout",
          "text": [
            "Mounted at /content/drive/\n"
          ]
        }
      ],
      "source": [
        "#Võ Đình Nghi 19146097\n",
        "from google.colab import drive\n",
        "drive.mount('/content/drive/')"
      ]
    },
    {
      "cell_type": "code",
      "source": [
        "import numpy as np\n",
        "import tensorflow as tf\n",
        "from tensorflow import keras\n",
        "from tensorflow.keras.models import Sequential\n",
        "from tensorflow.keras.layers import Activation, Dense, Flatten, BatchNormalization, Conv2D, MaxPool2D, Dropout\n",
        "from tensorflow.keras.optimizers import Adam\n",
        "from tensorflow.keras.metrics import categorical_crossentropy\n",
        "from tensorflow.keras.preprocessing.image import ImageDataGenerator\n",
        "from sklearn.metrics import confusion_matrix\n",
        "import itertools\n",
        "import os\n",
        "import shutil\n",
        "import random\n",
        "import glob\n",
        "import matplotlib.pyplot as plt\n",
        "import warnings\n",
        "from tensorflow.python.keras.utils.data_utils import Sequence\n",
        "warnings.simplefilter(action='ignore', category=FutureWarning)\n",
        "%matplotlib inline"
      ],
      "metadata": {
        "id": "LKQiIjXQKrsl"
      },
      "execution_count": null,
      "outputs": []
    },
    {
      "cell_type": "code",
      "source": [
        "train_path = '/content/drive/MyDrive/AI (1)/10 loai trai cay'\n",
        "valid_path = '/content/drive/MyDrive/AI (1)/10 loai trai cay'\n",
        "test_path = '/content/drive/MyDrive/AI (1)/10 loai trai cay'"
      ],
      "metadata": {
        "id": "_gQLCL47Kyzu"
      },
      "execution_count": null,
      "outputs": []
    },
    {
      "cell_type": "code",
      "source": [
        "train_datagen = ImageDataGenerator(rescale=1./255, rotation_range=40,\n",
        "                                   width_shift_range=0.2, height_shift_range=0.2,\n",
        "                                   shear_range=0.2, zoom_range=0.2,\n",
        "                                   horizontal_flip=True, fill_mode='nearest')\n",
        "test_datagen = ImageDataGenerator(rescale=1./255)\n",
        "train_batches = train_datagen.flow_from_directory(train_path, target_size=(224, 224), \n",
        "                                                  batch_size=10, class_mode='categorical')\n",
        "\n",
        "validation_batches = test_datagen.flow_from_directory(valid_path, target_size=(224, 224),\n",
        "                                                      batch_size=10, class_mode='categorical')\n",
        "\n",
        "test_batches = test_datagen.flow_from_directory(test_path, target_size=(224, 224),\n",
        "                                                batch_size=10, class_mode='categorical')"
      ],
      "metadata": {
        "colab": {
          "base_uri": "https://localhost:8080/"
        },
        "id": "E5RqWHQ2K8kF",
        "outputId": "7968fc47-c607-4485-c391-2b016d2db2f9"
      },
      "execution_count": null,
      "outputs": [
        {
          "output_type": "stream",
          "name": "stdout",
          "text": [
            "Found 211 images belonging to 10 classes.\n",
            "Found 211 images belonging to 10 classes.\n",
            "Found 211 images belonging to 10 classes.\n"
          ]
        }
      ]
    },
    {
      "cell_type": "code",
      "source": [
        "imgs, labels = next(train_batches)\n",
        "def plotImages(images_arr):\n",
        "    fig, axes = plt.subplots(1, 10, figsize=(20,20))\n",
        "    axes = axes.flatten()\n",
        "    for img, ax in zip( images_arr, axes):\n",
        "        ax.imshow(img)\n",
        "        ax.axis('off')\n",
        "    plt.tight_layout()\n",
        "    plt.show()"
      ],
      "metadata": {
        "id": "FRYES7h2K_QN"
      },
      "execution_count": null,
      "outputs": []
    },
    {
      "cell_type": "code",
      "source": [
        "model = Sequential([\n",
        "    Conv2D(filters=64, kernel_size=(3, 3), activation='relu', padding = 'same', input_shape=(224,224,3)),\n",
        "    MaxPool2D(pool_size=(2, 2), strides=2),\n",
        "    Conv2D(filters=128, kernel_size=(3, 3), activation='relu', padding = 'same'),\n",
        "    MaxPool2D(pool_size=(2, 2), strides=2),\n",
        "    Conv2D(filters=256, kernel_size=(3, 3), activation='relu', padding = 'same'),\n",
        "    MaxPool2D(pool_size=(2, 2), strides=2),\n",
        "    Dropout(0.2),\n",
        "    Conv2D(filters=256, kernel_size=(3, 3), activation='relu', padding = 'same'),\n",
        "    Flatten(),\n",
        "    Dropout(0.5),\n",
        "    Dense(units=10, activation='softmax')])\n",
        "model.summary()"
      ],
      "metadata": {
        "colab": {
          "base_uri": "https://localhost:8080/"
        },
        "id": "UL-NRD-aLCIT",
        "outputId": "ad8b9ae0-ee32-4157-f89a-11fe6da14042"
      },
      "execution_count": null,
      "outputs": [
        {
          "output_type": "stream",
          "name": "stdout",
          "text": [
            "Model: \"sequential\"\n",
            "_________________________________________________________________\n",
            " Layer (type)                Output Shape              Param #   \n",
            "=================================================================\n",
            " conv2d (Conv2D)             (None, 224, 224, 64)      1792      \n",
            "                                                                 \n",
            " max_pooling2d (MaxPooling2D  (None, 112, 112, 64)     0         \n",
            " )                                                               \n",
            "                                                                 \n",
            " conv2d_1 (Conv2D)           (None, 112, 112, 128)     73856     \n",
            "                                                                 \n",
            " max_pooling2d_1 (MaxPooling  (None, 56, 56, 128)      0         \n",
            " 2D)                                                             \n",
            "                                                                 \n",
            " conv2d_2 (Conv2D)           (None, 56, 56, 256)       295168    \n",
            "                                                                 \n",
            " max_pooling2d_2 (MaxPooling  (None, 28, 28, 256)      0         \n",
            " 2D)                                                             \n",
            "                                                                 \n",
            " dropout (Dropout)           (None, 28, 28, 256)       0         \n",
            "                                                                 \n",
            " conv2d_3 (Conv2D)           (None, 28, 28, 256)       590080    \n",
            "                                                                 \n",
            " flatten (Flatten)           (None, 200704)            0         \n",
            "                                                                 \n",
            " dropout_1 (Dropout)         (None, 200704)            0         \n",
            "                                                                 \n",
            " dense (Dense)               (None, 10)                2007050   \n",
            "                                                                 \n",
            "=================================================================\n",
            "Total params: 2,967,946\n",
            "Trainable params: 2,967,946\n",
            "Non-trainable params: 0\n",
            "_________________________________________________________________\n"
          ]
        }
      ]
    },
    {
      "cell_type": "code",
      "source": [
        "model.compile(optimizer=Adam(learning_rate=0.0005), loss='categorical_crossentropy', metrics=['accuracy'])\n",
        "model.fit(x=train_batches, steps_per_epoch=len(train_batches), validation_data=validation_batches,\n",
        "          validation_steps=len(validation_batches), epochs=100, verbose=1)"
      ],
      "metadata": {
        "colab": {
          "base_uri": "https://localhost:8080/"
        },
        "id": "FWIgQhazLD1-",
        "outputId": "82c54d15-f2d9-471b-813b-463dc0cacf30"
      },
      "execution_count": null,
      "outputs": [
        {
          "output_type": "stream",
          "name": "stdout",
          "text": [
            "Epoch 1/100\n",
            "22/22 [==============================] - 43s 1s/step - loss: 2.4513 - accuracy: 0.0900 - val_loss: 2.2832 - val_accuracy: 0.2227\n",
            "Epoch 2/100\n",
            "22/22 [==============================] - 4s 165ms/step - loss: 2.2457 - accuracy: 0.1801 - val_loss: 2.0581 - val_accuracy: 0.1706\n",
            "Epoch 3/100\n",
            "22/22 [==============================] - 4s 171ms/step - loss: 2.0208 - accuracy: 0.2227 - val_loss: 1.9962 - val_accuracy: 0.3175\n",
            "Epoch 4/100\n",
            "22/22 [==============================] - 4s 165ms/step - loss: 1.9165 - accuracy: 0.2607 - val_loss: 1.7890 - val_accuracy: 0.2891\n",
            "Epoch 5/100\n",
            "22/22 [==============================] - 4s 166ms/step - loss: 1.7104 - accuracy: 0.3555 - val_loss: 1.5585 - val_accuracy: 0.4028\n",
            "Epoch 6/100\n",
            "22/22 [==============================] - 4s 166ms/step - loss: 1.6983 - accuracy: 0.3602 - val_loss: 1.6101 - val_accuracy: 0.3934\n",
            "Epoch 7/100\n",
            "22/22 [==============================] - 4s 167ms/step - loss: 1.7726 - accuracy: 0.3412 - val_loss: 1.5923 - val_accuracy: 0.4502\n",
            "Epoch 8/100\n",
            "22/22 [==============================] - 4s 169ms/step - loss: 1.6210 - accuracy: 0.3791 - val_loss: 1.2920 - val_accuracy: 0.5545\n",
            "Epoch 9/100\n",
            "22/22 [==============================] - 4s 167ms/step - loss: 1.7171 - accuracy: 0.3175 - val_loss: 1.6494 - val_accuracy: 0.3649\n",
            "Epoch 10/100\n",
            "22/22 [==============================] - 4s 162ms/step - loss: 1.7196 - accuracy: 0.3412 - val_loss: 1.5686 - val_accuracy: 0.4502\n",
            "Epoch 11/100\n",
            "22/22 [==============================] - 4s 164ms/step - loss: 1.5985 - accuracy: 0.3934 - val_loss: 1.3889 - val_accuracy: 0.4882\n",
            "Epoch 12/100\n",
            "22/22 [==============================] - 4s 164ms/step - loss: 1.5308 - accuracy: 0.4265 - val_loss: 1.4287 - val_accuracy: 0.4976\n",
            "Epoch 13/100\n",
            "22/22 [==============================] - 4s 165ms/step - loss: 1.4908 - accuracy: 0.4455 - val_loss: 1.1911 - val_accuracy: 0.5166\n",
            "Epoch 14/100\n",
            "22/22 [==============================] - 4s 164ms/step - loss: 1.4314 - accuracy: 0.4692 - val_loss: 1.4331 - val_accuracy: 0.4408\n",
            "Epoch 15/100\n",
            "22/22 [==============================] - 4s 164ms/step - loss: 1.5214 - accuracy: 0.4597 - val_loss: 1.1976 - val_accuracy: 0.5450\n",
            "Epoch 16/100\n",
            "22/22 [==============================] - 4s 165ms/step - loss: 1.3049 - accuracy: 0.4929 - val_loss: 0.9696 - val_accuracy: 0.6209\n",
            "Epoch 17/100\n",
            "22/22 [==============================] - 4s 167ms/step - loss: 1.1962 - accuracy: 0.5024 - val_loss: 0.9561 - val_accuracy: 0.5877\n",
            "Epoch 18/100\n",
            "22/22 [==============================] - 4s 162ms/step - loss: 1.1923 - accuracy: 0.5166 - val_loss: 1.0140 - val_accuracy: 0.6114\n",
            "Epoch 19/100\n",
            "22/22 [==============================] - 4s 165ms/step - loss: 1.2008 - accuracy: 0.5261 - val_loss: 0.8789 - val_accuracy: 0.6682\n",
            "Epoch 20/100\n",
            "22/22 [==============================] - 4s 165ms/step - loss: 1.1211 - accuracy: 0.5545 - val_loss: 0.9795 - val_accuracy: 0.6351\n",
            "Epoch 21/100\n",
            "22/22 [==============================] - 4s 165ms/step - loss: 1.2422 - accuracy: 0.4834 - val_loss: 1.0026 - val_accuracy: 0.6256\n",
            "Epoch 22/100\n",
            "22/22 [==============================] - 4s 164ms/step - loss: 1.0610 - accuracy: 0.5735 - val_loss: 0.8287 - val_accuracy: 0.6493\n",
            "Epoch 23/100\n",
            "22/22 [==============================] - 4s 166ms/step - loss: 1.2504 - accuracy: 0.5071 - val_loss: 0.8357 - val_accuracy: 0.6825\n",
            "Epoch 24/100\n",
            "22/22 [==============================] - 4s 167ms/step - loss: 1.0015 - accuracy: 0.5877 - val_loss: 0.7608 - val_accuracy: 0.6967\n",
            "Epoch 25/100\n",
            "22/22 [==============================] - 4s 165ms/step - loss: 1.0625 - accuracy: 0.5308 - val_loss: 0.8658 - val_accuracy: 0.6256\n",
            "Epoch 26/100\n",
            "22/22 [==============================] - 4s 166ms/step - loss: 0.9701 - accuracy: 0.5972 - val_loss: 0.7774 - val_accuracy: 0.6682\n",
            "Epoch 27/100\n",
            "22/22 [==============================] - 4s 163ms/step - loss: 0.9698 - accuracy: 0.5687 - val_loss: 0.6611 - val_accuracy: 0.7251\n",
            "Epoch 28/100\n",
            "22/22 [==============================] - 4s 165ms/step - loss: 0.9204 - accuracy: 0.6303 - val_loss: 1.1054 - val_accuracy: 0.6161\n",
            "Epoch 29/100\n",
            "22/22 [==============================] - 4s 166ms/step - loss: 1.1190 - accuracy: 0.5687 - val_loss: 1.0492 - val_accuracy: 0.5640\n",
            "Epoch 30/100\n",
            "22/22 [==============================] - 4s 165ms/step - loss: 1.1666 - accuracy: 0.5166 - val_loss: 0.8530 - val_accuracy: 0.6588\n",
            "Epoch 31/100\n",
            "22/22 [==============================] - 4s 164ms/step - loss: 0.9126 - accuracy: 0.6445 - val_loss: 0.6081 - val_accuracy: 0.7678\n",
            "Epoch 32/100\n",
            "22/22 [==============================] - 4s 167ms/step - loss: 0.8319 - accuracy: 0.6445 - val_loss: 0.6580 - val_accuracy: 0.7299\n",
            "Epoch 33/100\n",
            "22/22 [==============================] - 4s 171ms/step - loss: 0.8294 - accuracy: 0.6635 - val_loss: 0.5735 - val_accuracy: 0.7820\n",
            "Epoch 34/100\n",
            "22/22 [==============================] - 4s 172ms/step - loss: 0.8241 - accuracy: 0.6445 - val_loss: 0.8407 - val_accuracy: 0.6398\n",
            "Epoch 35/100\n",
            "22/22 [==============================] - 4s 176ms/step - loss: 0.9107 - accuracy: 0.6303 - val_loss: 0.5969 - val_accuracy: 0.7915\n",
            "Epoch 36/100\n",
            "22/22 [==============================] - 4s 169ms/step - loss: 0.7991 - accuracy: 0.6682 - val_loss: 0.5364 - val_accuracy: 0.8104\n",
            "Epoch 37/100\n",
            "22/22 [==============================] - 4s 170ms/step - loss: 0.7037 - accuracy: 0.7346 - val_loss: 0.4601 - val_accuracy: 0.8199\n",
            "Epoch 38/100\n",
            "22/22 [==============================] - 4s 168ms/step - loss: 0.7396 - accuracy: 0.6967 - val_loss: 0.7325 - val_accuracy: 0.7393\n",
            "Epoch 39/100\n",
            "22/22 [==============================] - 4s 171ms/step - loss: 0.9149 - accuracy: 0.6114 - val_loss: 0.5163 - val_accuracy: 0.8057\n",
            "Epoch 40/100\n",
            "22/22 [==============================] - 4s 165ms/step - loss: 0.7496 - accuracy: 0.6777 - val_loss: 0.5030 - val_accuracy: 0.7678\n",
            "Epoch 41/100\n",
            "22/22 [==============================] - 4s 167ms/step - loss: 0.7237 - accuracy: 0.6872 - val_loss: 0.5487 - val_accuracy: 0.7867\n",
            "Epoch 42/100\n",
            "22/22 [==============================] - 4s 165ms/step - loss: 0.7045 - accuracy: 0.7156 - val_loss: 0.4589 - val_accuracy: 0.8009\n",
            "Epoch 43/100\n",
            "22/22 [==============================] - 4s 166ms/step - loss: 0.6542 - accuracy: 0.7393 - val_loss: 0.5087 - val_accuracy: 0.7867\n",
            "Epoch 44/100\n",
            "22/22 [==============================] - 4s 165ms/step - loss: 0.6376 - accuracy: 0.7583 - val_loss: 0.4656 - val_accuracy: 0.8104\n",
            "Epoch 45/100\n",
            "22/22 [==============================] - 4s 174ms/step - loss: 0.8279 - accuracy: 0.6967 - val_loss: 0.4764 - val_accuracy: 0.8389\n",
            "Epoch 46/100\n",
            "22/22 [==============================] - 4s 180ms/step - loss: 0.7204 - accuracy: 0.7299 - val_loss: 0.4623 - val_accuracy: 0.8341\n",
            "Epoch 47/100\n",
            "22/22 [==============================] - 4s 168ms/step - loss: 0.6154 - accuracy: 0.7441 - val_loss: 0.2950 - val_accuracy: 0.9005\n",
            "Epoch 48/100\n",
            "22/22 [==============================] - 4s 166ms/step - loss: 0.5796 - accuracy: 0.7867 - val_loss: 0.5753 - val_accuracy: 0.7725\n",
            "Epoch 49/100\n",
            "22/22 [==============================] - 4s 168ms/step - loss: 0.6478 - accuracy: 0.7346 - val_loss: 0.5385 - val_accuracy: 0.7915\n",
            "Epoch 50/100\n",
            "22/22 [==============================] - 4s 164ms/step - loss: 0.6602 - accuracy: 0.7630 - val_loss: 0.4822 - val_accuracy: 0.7867\n",
            "Epoch 51/100\n",
            "22/22 [==============================] - 4s 167ms/step - loss: 0.6392 - accuracy: 0.7583 - val_loss: 0.2599 - val_accuracy: 0.9052\n",
            "Epoch 52/100\n",
            "22/22 [==============================] - 4s 165ms/step - loss: 0.7041 - accuracy: 0.7441 - val_loss: 0.5628 - val_accuracy: 0.7773\n",
            "Epoch 53/100\n",
            "22/22 [==============================] - 4s 166ms/step - loss: 0.8990 - accuracy: 0.7062 - val_loss: 0.4863 - val_accuracy: 0.8246\n",
            "Epoch 54/100\n",
            "22/22 [==============================] - 4s 167ms/step - loss: 0.6515 - accuracy: 0.7156 - val_loss: 0.3980 - val_accuracy: 0.8673\n",
            "Epoch 55/100\n",
            "22/22 [==============================] - 4s 168ms/step - loss: 0.5739 - accuracy: 0.7962 - val_loss: 0.3815 - val_accuracy: 0.8673\n",
            "Epoch 56/100\n",
            "22/22 [==============================] - 4s 166ms/step - loss: 0.6020 - accuracy: 0.7962 - val_loss: 0.2618 - val_accuracy: 0.9100\n",
            "Epoch 57/100\n",
            "22/22 [==============================] - 4s 167ms/step - loss: 0.5814 - accuracy: 0.8009 - val_loss: 0.2707 - val_accuracy: 0.8815\n",
            "Epoch 58/100\n",
            "22/22 [==============================] - 4s 166ms/step - loss: 0.4975 - accuracy: 0.7867 - val_loss: 0.4659 - val_accuracy: 0.8483\n",
            "Epoch 59/100\n",
            "22/22 [==============================] - 4s 164ms/step - loss: 0.3770 - accuracy: 0.8483 - val_loss: 0.2547 - val_accuracy: 0.8910\n",
            "Epoch 60/100\n",
            "22/22 [==============================] - 4s 167ms/step - loss: 0.3420 - accuracy: 0.8863 - val_loss: 0.1960 - val_accuracy: 0.9289\n",
            "Epoch 61/100\n",
            "22/22 [==============================] - 4s 172ms/step - loss: 0.4158 - accuracy: 0.8389 - val_loss: 0.2201 - val_accuracy: 0.9052\n",
            "Epoch 62/100\n",
            "22/22 [==============================] - 4s 164ms/step - loss: 0.4484 - accuracy: 0.8294 - val_loss: 0.2510 - val_accuracy: 0.9005\n",
            "Epoch 63/100\n",
            "22/22 [==============================] - 4s 165ms/step - loss: 0.7434 - accuracy: 0.7536 - val_loss: 1.3565 - val_accuracy: 0.7251\n",
            "Epoch 64/100\n",
            "22/22 [==============================] - 4s 166ms/step - loss: 0.8548 - accuracy: 0.7251 - val_loss: 0.2803 - val_accuracy: 0.9100\n",
            "Epoch 65/100\n",
            "22/22 [==============================] - 4s 163ms/step - loss: 0.5080 - accuracy: 0.8246 - val_loss: 0.2789 - val_accuracy: 0.9100\n",
            "Epoch 66/100\n",
            "22/22 [==============================] - 4s 167ms/step - loss: 0.5215 - accuracy: 0.8104 - val_loss: 0.4057 - val_accuracy: 0.8389\n",
            "Epoch 67/100\n",
            "22/22 [==============================] - 4s 166ms/step - loss: 0.5677 - accuracy: 0.8199 - val_loss: 0.4086 - val_accuracy: 0.8483\n",
            "Epoch 68/100\n",
            "22/22 [==============================] - 4s 165ms/step - loss: 0.4812 - accuracy: 0.7867 - val_loss: 0.2404 - val_accuracy: 0.9052\n",
            "Epoch 69/100\n",
            "22/22 [==============================] - 4s 168ms/step - loss: 0.4778 - accuracy: 0.8199 - val_loss: 0.3323 - val_accuracy: 0.8768\n",
            "Epoch 70/100\n",
            "22/22 [==============================] - 4s 165ms/step - loss: 0.4007 - accuracy: 0.8673 - val_loss: 0.2478 - val_accuracy: 0.8957\n",
            "Epoch 71/100\n",
            "22/22 [==============================] - 4s 164ms/step - loss: 0.3557 - accuracy: 0.8531 - val_loss: 0.1804 - val_accuracy: 0.9431\n",
            "Epoch 72/100\n",
            "22/22 [==============================] - 4s 168ms/step - loss: 0.3867 - accuracy: 0.8341 - val_loss: 0.1631 - val_accuracy: 0.9194\n",
            "Epoch 73/100\n",
            "22/22 [==============================] - 4s 170ms/step - loss: 0.3011 - accuracy: 0.8863 - val_loss: 0.1971 - val_accuracy: 0.9242\n",
            "Epoch 74/100\n",
            "22/22 [==============================] - 4s 168ms/step - loss: 0.2427 - accuracy: 0.9005 - val_loss: 0.1546 - val_accuracy: 0.9336\n",
            "Epoch 75/100\n",
            "22/22 [==============================] - 4s 168ms/step - loss: 0.3686 - accuracy: 0.8531 - val_loss: 0.5177 - val_accuracy: 0.9005\n",
            "Epoch 76/100\n",
            "22/22 [==============================] - 4s 165ms/step - loss: 0.2903 - accuracy: 0.8863 - val_loss: 0.1123 - val_accuracy: 0.9621\n",
            "Epoch 77/100\n",
            "22/22 [==============================] - 4s 165ms/step - loss: 0.2947 - accuracy: 0.9052 - val_loss: 0.1964 - val_accuracy: 0.9336\n",
            "Epoch 78/100\n",
            "22/22 [==============================] - 4s 169ms/step - loss: 0.2867 - accuracy: 0.8910 - val_loss: 0.1453 - val_accuracy: 0.9573\n",
            "Epoch 79/100\n",
            "22/22 [==============================] - 4s 166ms/step - loss: 0.2962 - accuracy: 0.8863 - val_loss: 0.1753 - val_accuracy: 0.9431\n",
            "Epoch 80/100\n",
            "22/22 [==============================] - 4s 164ms/step - loss: 0.3307 - accuracy: 0.8815 - val_loss: 0.5197 - val_accuracy: 0.8341\n",
            "Epoch 81/100\n",
            "22/22 [==============================] - 4s 166ms/step - loss: 0.5528 - accuracy: 0.8009 - val_loss: 0.2214 - val_accuracy: 0.9479\n",
            "Epoch 82/100\n",
            "22/22 [==============================] - 4s 170ms/step - loss: 0.4682 - accuracy: 0.8389 - val_loss: 0.1767 - val_accuracy: 0.9384\n",
            "Epoch 83/100\n",
            "22/22 [==============================] - 4s 163ms/step - loss: 0.3437 - accuracy: 0.8531 - val_loss: 0.1600 - val_accuracy: 0.9336\n",
            "Epoch 84/100\n",
            "22/22 [==============================] - 4s 167ms/step - loss: 0.2818 - accuracy: 0.9147 - val_loss: 0.1499 - val_accuracy: 0.9242\n",
            "Epoch 85/100\n",
            "22/22 [==============================] - 4s 163ms/step - loss: 0.2907 - accuracy: 0.9100 - val_loss: 0.4861 - val_accuracy: 0.8768\n",
            "Epoch 86/100\n",
            "22/22 [==============================] - 4s 166ms/step - loss: 0.3858 - accuracy: 0.8578 - val_loss: 0.1336 - val_accuracy: 0.9431\n",
            "Epoch 87/100\n",
            "22/22 [==============================] - 4s 167ms/step - loss: 0.1968 - accuracy: 0.9384 - val_loss: 0.1451 - val_accuracy: 0.9526\n",
            "Epoch 88/100\n",
            "22/22 [==============================] - 4s 164ms/step - loss: 0.2997 - accuracy: 0.8863 - val_loss: 0.1078 - val_accuracy: 0.9716\n",
            "Epoch 89/100\n",
            "22/22 [==============================] - 4s 167ms/step - loss: 1.2228 - accuracy: 0.6919 - val_loss: 0.5998 - val_accuracy: 0.7915\n",
            "Epoch 90/100\n",
            "22/22 [==============================] - 4s 169ms/step - loss: 0.7274 - accuracy: 0.7156 - val_loss: 0.3562 - val_accuracy: 0.9052\n",
            "Epoch 91/100\n",
            "22/22 [==============================] - 4s 168ms/step - loss: 0.3993 - accuracy: 0.8673 - val_loss: 0.3051 - val_accuracy: 0.9100\n",
            "Epoch 92/100\n",
            "22/22 [==============================] - 4s 176ms/step - loss: 0.3920 - accuracy: 0.8341 - val_loss: 0.1898 - val_accuracy: 0.9289\n",
            "Epoch 93/100\n",
            "22/22 [==============================] - 4s 165ms/step - loss: 0.3969 - accuracy: 0.8578 - val_loss: 0.2400 - val_accuracy: 0.9194\n",
            "Epoch 94/100\n",
            "22/22 [==============================] - 4s 165ms/step - loss: 0.3096 - accuracy: 0.8815 - val_loss: 0.1196 - val_accuracy: 0.9763\n",
            "Epoch 95/100\n",
            "22/22 [==============================] - 4s 165ms/step - loss: 0.2944 - accuracy: 0.8531 - val_loss: 0.1371 - val_accuracy: 0.9384\n",
            "Epoch 96/100\n",
            "22/22 [==============================] - 4s 168ms/step - loss: 0.2231 - accuracy: 0.9147 - val_loss: 0.1491 - val_accuracy: 0.9479\n",
            "Epoch 97/100\n",
            "22/22 [==============================] - 4s 164ms/step - loss: 0.4118 - accuracy: 0.8531 - val_loss: 0.1767 - val_accuracy: 0.9336\n",
            "Epoch 98/100\n",
            "22/22 [==============================] - 4s 166ms/step - loss: 0.2674 - accuracy: 0.9242 - val_loss: 0.4204 - val_accuracy: 0.8815\n",
            "Epoch 99/100\n",
            "22/22 [==============================] - 4s 165ms/step - loss: 0.2290 - accuracy: 0.9005 - val_loss: 0.0587 - val_accuracy: 0.9858\n",
            "Epoch 100/100\n",
            "22/22 [==============================] - 4s 165ms/step - loss: 0.1964 - accuracy: 0.9242 - val_loss: 0.0725 - val_accuracy: 0.9763\n"
          ]
        },
        {
          "output_type": "execute_result",
          "data": {
            "text/plain": [
              "<keras.callbacks.History at 0x7fc8670e1450>"
            ]
          },
          "metadata": {},
          "execution_count": 9
        }
      ]
    },
    {
      "cell_type": "code",
      "source": [
        "model.save('10traicay.h5')"
      ],
      "metadata": {
        "id": "X_zgOPwULIoI"
      },
      "execution_count": null,
      "outputs": []
    },
    {
      "cell_type": "code",
      "source": [
        "classes = ['carot','chom chom','chuoi','dau','dua hau','mang cut','nho','sau rieng','tao','thom']\n",
        "print(\"Image Processing.......Completed\")"
      ],
      "metadata": {
        "colab": {
          "base_uri": "https://localhost:8080/"
        },
        "id": "6HxG4sH4QBRD",
        "outputId": "f2ad39a8-9480-44be-ace8-899dddd6b0ed"
      },
      "execution_count": null,
      "outputs": [
        {
          "output_type": "stream",
          "name": "stdout",
          "text": [
            "Image Processing.......Completed\n"
          ]
        }
      ]
    },
    {
      "cell_type": "code",
      "source": [
        "from google.colab import files\n",
        "from keras.preprocessing import image\n",
        "%matplotlib inline\n",
        "import matplotlib.pyplot as plt\n",
        "import matplotlib.image as mpimg\n",
        "\n",
        "uploaded=files.upload()\n",
        "\n",
        "for fn in uploaded.keys():\n",
        "  #predicting images\n",
        "  path='/content/'+fn\n",
        "  #In ảnh đọc được\n",
        "  plt.imshow(mpimg.imread(path))\n",
        "\n",
        "  img=image.load_img(path,target_size=(224,224))\n",
        "  x=image.img_to_array(img)\n",
        "  x=np.expand_dims(x,axis=0)\n",
        "  images=np.vstack([x])\n",
        "  y_predict = model.predict(images,batch_size=200000)\n",
        "  print(y_predict)\n",
        "  print('Giá trị dự đoán: ', classes[np.argmax(y_predict)])"
      ],
      "metadata": {
        "colab": {
          "resources": {
            "http://localhost:8080/nbextensions/google.colab/files.js": {
              "data": "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",
              "ok": true,
              "headers": [
                [
                  "content-type",
                  "application/javascript"
                ]
              ],
              "status": 200,
              "status_text": ""
            }
          },
          "base_uri": "https://localhost:8080/",
          "height": 360
        },
        "id": "GpWfqEJRQXOF",
        "outputId": "9fe25e17-e265-4dd3-a1bf-4214430b3fe4"
      },
      "execution_count": null,
      "outputs": [
        {
          "output_type": "display_data",
          "data": {
            "text/plain": [
              "<IPython.core.display.HTML object>"
            ],
            "text/html": [
              "\n",
              "     <input type=\"file\" id=\"files-5dfcf118-ded5-42c7-8280-200ca421f6cb\" name=\"files[]\" multiple disabled\n",
              "        style=\"border:none\" />\n",
              "     <output id=\"result-5dfcf118-ded5-42c7-8280-200ca421f6cb\">\n",
              "      Upload widget is only available when the cell has been executed in the\n",
              "      current browser session. Please rerun this cell to enable.\n",
              "      </output>\n",
              "      <script src=\"/nbextensions/google.colab/files.js\"></script> "
            ]
          },
          "metadata": {}
        },
        {
          "output_type": "stream",
          "name": "stdout",
          "text": [
            "Saving dua-nu-hoang.jpg to dua-nu-hoang.jpg\n",
            "[[0. 0. 0. 0. 0. 0. 0. 0. 0. 1.]]\n",
            "Giá trị dự đoán:  thom\n"
          ]
        },
        {
          "output_type": "display_data",
          "data": {
            "text/plain": [
              "<Figure size 432x288 with 1 Axes>"
            ],
            "image/png": "[encoded data removed]"
          },
          "metadata": {
            "needs_background": "light"
          }
        }
      ]
    },
    {
      "cell_type": "code",
      "source": [
        ""
      ],
      "metadata": {
        "id": "9cStZ8OyQbiA"
      },
      "execution_count": null,
      "outputs": []
    }
  ]
}